{
 "cells": [
  {
   "cell_type": "code",
   "execution_count": 1,
   "metadata": {},
   "outputs": [],
   "source": [
    "from galileojp.frames import ExperimentFrameGateway\n",
    "from galileojp.widgets import experiment_dropdown\n",
    "import matplotlib.pyplot as plt"
   ]
  },
  {
   "cell_type": "code",
   "execution_count": 9,
   "metadata": {
    "pycharm": {
     "name": "#%%\n"
    }
   },
   "outputs": [
    {
     "data": {
      "text/plain": "               EXP_ID      NAME       CREATOR         START           END  \\\n0   202104191959-4457     pdf-1  jacob-basics  1.618862e+09  1.618862e+09   \n1   202104192000-9092     pdf-2  jacob-basics  1.618862e+09  1.618863e+09   \n2   202104192002-fed4     pdf-3  jacob-basics  1.618863e+09  1.618863e+09   \n3   202104192003-5bc3     pdf-4  jacob-basics  1.618863e+09  1.618863e+09   \n4   202104192004-2858     pdf-5  jacob-basics  1.618863e+09  1.618863e+09   \n5   202104192006-f22c     pdf-6  jacob-basics  1.618863e+09  1.618863e+09   \n6   202104192007-d235     pdf-7  jacob-basics  1.618863e+09  1.618863e+09   \n7   202104192009-3ca9     pdf-8  jacob-basics  1.618863e+09  1.618863e+09   \n8   202104192010-174b     pdf-9  jacob-basics  1.618863e+09  1.618863e+09   \n9   202104192012-4dea    pdf-10  jacob-basics  1.618863e+09  1.618863e+09   \n10  202104192013-3ed4      mx-1  jacob-basics  1.618863e+09  1.618863e+09   \n11  202104192014-a658      mx-2  jacob-basics  1.618863e+09  1.618863e+09   \n12  202104192016-5e9b      mx-3  jacob-basics  1.618863e+09  1.618863e+09   \n13  202104192017-113e      mx-4  jacob-basics  1.618863e+09  1.618864e+09   \n14  202104192019-0b53      mx-5  jacob-basics  1.618864e+09  1.618864e+09   \n15  202104192020-7f9b      mx-6  jacob-basics  1.618864e+09  1.618864e+09   \n16  202104192021-0322      mx-7  jacob-basics  1.618864e+09  1.618864e+09   \n17  202104192023-93b3      mx-8  jacob-basics  1.618864e+09  1.618864e+09   \n18  202104192024-e45e      mx-9  jacob-basics  1.618864e+09  1.618864e+09   \n19  202104192026-2d03     mx-10  jacob-basics  1.618864e+09  1.618864e+09   \n20  202104192027-f124   euler-1  jacob-basics  1.618864e+09  1.618864e+09   \n21  202104192029-55b9   euler-2  jacob-basics  1.618864e+09  1.618864e+09   \n22  202104192030-7f10   euler-3  jacob-basics  1.618864e+09  1.618864e+09   \n23  202104192031-8ece   euler-4  jacob-basics  1.618864e+09  1.618864e+09   \n24  202104192033-8337   euler-5  jacob-basics  1.618864e+09  1.618864e+09   \n25  202104192034-07a2   euler-6  jacob-basics  1.618864e+09  1.618865e+09   \n26  202104192036-15c6   euler-7  jacob-basics  1.618865e+09  1.618865e+09   \n27  202104192037-676f   euler-8  jacob-basics  1.618865e+09  1.618865e+09   \n28  202104192038-beac   euler-9  jacob-basics  1.618865e+09  1.618865e+09   \n29  202104192040-9faa  euler-10  jacob-basics  1.618865e+09  1.618865e+09   \n30  202104192041-9b9d     all-1  jacob-basics  1.618865e+09  1.618865e+09   \n31  202104192043-4c73     all-2  jacob-basics  1.618865e+09  1.618865e+09   \n32  202104192044-e92b     all-3  jacob-basics  1.618865e+09  1.618865e+09   \n33  202104192046-f563     all-4  jacob-basics  1.618865e+09  1.618865e+09   \n34  202104192047-eddc     all-5  jacob-basics  1.618865e+09  1.618865e+09   \n\n         CREATED    STATUS  \n0   1.618862e+09  FINISHED  \n1   1.618862e+09  FINISHED  \n2   1.618863e+09  FINISHED  \n3   1.618863e+09  FINISHED  \n4   1.618863e+09  FINISHED  \n5   1.618863e+09  FINISHED  \n6   1.618863e+09  FINISHED  \n7   1.618863e+09  FINISHED  \n8   1.618863e+09  FINISHED  \n9   1.618863e+09  FINISHED  \n10  1.618863e+09  FINISHED  \n11  1.618863e+09  FINISHED  \n12  1.618863e+09  FINISHED  \n13  1.618863e+09  FINISHED  \n14  1.618864e+09  FINISHED  \n15  1.618864e+09  FINISHED  \n16  1.618864e+09  FINISHED  \n17  1.618864e+09  FINISHED  \n18  1.618864e+09  FINISHED  \n19  1.618864e+09  FINISHED  \n20  1.618864e+09  FINISHED  \n21  1.618864e+09  FINISHED  \n22  1.618864e+09  FINISHED  \n23  1.618864e+09  FINISHED  \n24  1.618864e+09  FINISHED  \n25  1.618864e+09  FINISHED  \n26  1.618865e+09  FINISHED  \n27  1.618865e+09  FINISHED  \n28  1.618865e+09  FINISHED  \n29  1.618865e+09  FINISHED  \n30  1.618865e+09  FINISHED  \n31  1.618865e+09  FINISHED  \n32  1.618865e+09  FINISHED  \n33  1.618865e+09  FINISHED  \n34  1.618865e+09  FINISHED  ",
      "text/html": "<div>\n<style scoped>\n    .dataframe tbody tr th:only-of-type {\n        vertical-align: middle;\n    }\n\n    .dataframe tbody tr th {\n        vertical-align: top;\n    }\n\n    .dataframe thead th {\n        text-align: right;\n    }\n</style>\n<table border=\"1\" class=\"dataframe\">\n  <thead>\n    <tr style=\"text-align: right;\">\n      <th></th>\n      <th>EXP_ID</th>\n      <th>NAME</th>\n      <th>CREATOR</th>\n      <th>START</th>\n      <th>END</th>\n      <th>CREATED</th>\n      <th>STATUS</th>\n    </tr>\n  </thead>\n  <tbody>\n    <tr>\n      <th>0</th>\n      <td>202104191959-4457</td>\n      <td>pdf-1</td>\n      <td>jacob-basics</td>\n      <td>1.618862e+09</td>\n      <td>1.618862e+09</td>\n      <td>1.618862e+09</td>\n      <td>FINISHED</td>\n    </tr>\n    <tr>\n      <th>1</th>\n      <td>202104192000-9092</td>\n      <td>pdf-2</td>\n      <td>jacob-basics</td>\n      <td>1.618862e+09</td>\n      <td>1.618863e+09</td>\n      <td>1.618862e+09</td>\n      <td>FINISHED</td>\n    </tr>\n    <tr>\n      <th>2</th>\n      <td>202104192002-fed4</td>\n      <td>pdf-3</td>\n      <td>jacob-basics</td>\n      <td>1.618863e+09</td>\n      <td>1.618863e+09</td>\n      <td>1.618863e+09</td>\n      <td>FINISHED</td>\n    </tr>\n    <tr>\n      <th>3</th>\n      <td>202104192003-5bc3</td>\n      <td>pdf-4</td>\n      <td>jacob-basics</td>\n      <td>1.618863e+09</td>\n      <td>1.618863e+09</td>\n      <td>1.618863e+09</td>\n      <td>FINISHED</td>\n    </tr>\n    <tr>\n      <th>4</th>\n      <td>202104192004-2858</td>\n      <td>pdf-5</td>\n      <td>jacob-basics</td>\n      <td>1.618863e+09</td>\n      <td>1.618863e+09</td>\n      <td>1.618863e+09</td>\n      <td>FINISHED</td>\n    </tr>\n    <tr>\n      <th>5</th>\n      <td>202104192006-f22c</td>\n      <td>pdf-6</td>\n      <td>jacob-basics</td>\n      <td>1.618863e+09</td>\n      <td>1.618863e+09</td>\n      <td>1.618863e+09</td>\n      <td>FINISHED</td>\n    </tr>\n    <tr>\n      <th>6</th>\n      <td>202104192007-d235</td>\n      <td>pdf-7</td>\n      <td>jacob-basics</td>\n      <td>1.618863e+09</td>\n      <td>1.618863e+09</td>\n      <td>1.618863e+09</td>\n      <td>FINISHED</td>\n    </tr>\n    <tr>\n      <th>7</th>\n      <td>202104192009-3ca9</td>\n      <td>pdf-8</td>\n      <td>jacob-basics</td>\n      <td>1.618863e+09</td>\n      <td>1.618863e+09</td>\n      <td>1.618863e+09</td>\n      <td>FINISHED</td>\n    </tr>\n    <tr>\n      <th>8</th>\n      <td>202104192010-174b</td>\n      <td>pdf-9</td>\n      <td>jacob-basics</td>\n      <td>1.618863e+09</td>\n      <td>1.618863e+09</td>\n      <td>1.618863e+09</td>\n      <td>FINISHED</td>\n    </tr>\n    <tr>\n      <th>9</th>\n      <td>202104192012-4dea</td>\n      <td>pdf-10</td>\n      <td>jacob-basics</td>\n      <td>1.618863e+09</td>\n      <td>1.618863e+09</td>\n      <td>1.618863e+09</td>\n      <td>FINISHED</td>\n    </tr>\n    <tr>\n      <th>10</th>\n      <td>202104192013-3ed4</td>\n      <td>mx-1</td>\n      <td>jacob-basics</td>\n      <td>1.618863e+09</td>\n      <td>1.618863e+09</td>\n      <td>1.618863e+09</td>\n      <td>FINISHED</td>\n    </tr>\n    <tr>\n      <th>11</th>\n      <td>202104192014-a658</td>\n      <td>mx-2</td>\n      <td>jacob-basics</td>\n      <td>1.618863e+09</td>\n      <td>1.618863e+09</td>\n      <td>1.618863e+09</td>\n      <td>FINISHED</td>\n    </tr>\n    <tr>\n      <th>12</th>\n      <td>202104192016-5e9b</td>\n      <td>mx-3</td>\n      <td>jacob-basics</td>\n      <td>1.618863e+09</td>\n      <td>1.618863e+09</td>\n      <td>1.618863e+09</td>\n      <td>FINISHED</td>\n    </tr>\n    <tr>\n      <th>13</th>\n      <td>202104192017-113e</td>\n      <td>mx-4</td>\n      <td>jacob-basics</td>\n      <td>1.618863e+09</td>\n      <td>1.618864e+09</td>\n      <td>1.618863e+09</td>\n      <td>FINISHED</td>\n    </tr>\n    <tr>\n      <th>14</th>\n      <td>202104192019-0b53</td>\n      <td>mx-5</td>\n      <td>jacob-basics</td>\n      <td>1.618864e+09</td>\n      <td>1.618864e+09</td>\n      <td>1.618864e+09</td>\n      <td>FINISHED</td>\n    </tr>\n    <tr>\n      <th>15</th>\n      <td>202104192020-7f9b</td>\n      <td>mx-6</td>\n      <td>jacob-basics</td>\n      <td>1.618864e+09</td>\n      <td>1.618864e+09</td>\n      <td>1.618864e+09</td>\n      <td>FINISHED</td>\n    </tr>\n    <tr>\n      <th>16</th>\n      <td>202104192021-0322</td>\n      <td>mx-7</td>\n      <td>jacob-basics</td>\n      <td>1.618864e+09</td>\n      <td>1.618864e+09</td>\n      <td>1.618864e+09</td>\n      <td>FINISHED</td>\n    </tr>\n    <tr>\n      <th>17</th>\n      <td>202104192023-93b3</td>\n      <td>mx-8</td>\n      <td>jacob-basics</td>\n      <td>1.618864e+09</td>\n      <td>1.618864e+09</td>\n      <td>1.618864e+09</td>\n      <td>FINISHED</td>\n    </tr>\n    <tr>\n      <th>18</th>\n      <td>202104192024-e45e</td>\n      <td>mx-9</td>\n      <td>jacob-basics</td>\n      <td>1.618864e+09</td>\n      <td>1.618864e+09</td>\n      <td>1.618864e+09</td>\n      <td>FINISHED</td>\n    </tr>\n    <tr>\n      <th>19</th>\n      <td>202104192026-2d03</td>\n      <td>mx-10</td>\n      <td>jacob-basics</td>\n      <td>1.618864e+09</td>\n      <td>1.618864e+09</td>\n      <td>1.618864e+09</td>\n      <td>FINISHED</td>\n    </tr>\n    <tr>\n      <th>20</th>\n      <td>202104192027-f124</td>\n      <td>euler-1</td>\n      <td>jacob-basics</td>\n      <td>1.618864e+09</td>\n      <td>1.618864e+09</td>\n      <td>1.618864e+09</td>\n      <td>FINISHED</td>\n    </tr>\n    <tr>\n      <th>21</th>\n      <td>202104192029-55b9</td>\n      <td>euler-2</td>\n      <td>jacob-basics</td>\n      <td>1.618864e+09</td>\n      <td>1.618864e+09</td>\n      <td>1.618864e+09</td>\n      <td>FINISHED</td>\n    </tr>\n    <tr>\n      <th>22</th>\n      <td>202104192030-7f10</td>\n      <td>euler-3</td>\n      <td>jacob-basics</td>\n      <td>1.618864e+09</td>\n      <td>1.618864e+09</td>\n      <td>1.618864e+09</td>\n      <td>FINISHED</td>\n    </tr>\n    <tr>\n      <th>23</th>\n      <td>202104192031-8ece</td>\n      <td>euler-4</td>\n      <td>jacob-basics</td>\n      <td>1.618864e+09</td>\n      <td>1.618864e+09</td>\n      <td>1.618864e+09</td>\n      <td>FINISHED</td>\n    </tr>\n    <tr>\n      <th>24</th>\n      <td>202104192033-8337</td>\n      <td>euler-5</td>\n      <td>jacob-basics</td>\n      <td>1.618864e+09</td>\n      <td>1.618864e+09</td>\n      <td>1.618864e+09</td>\n      <td>FINISHED</td>\n    </tr>\n    <tr>\n      <th>25</th>\n      <td>202104192034-07a2</td>\n      <td>euler-6</td>\n      <td>jacob-basics</td>\n      <td>1.618864e+09</td>\n      <td>1.618865e+09</td>\n      <td>1.618864e+09</td>\n      <td>FINISHED</td>\n    </tr>\n    <tr>\n      <th>26</th>\n      <td>202104192036-15c6</td>\n      <td>euler-7</td>\n      <td>jacob-basics</td>\n      <td>1.618865e+09</td>\n      <td>1.618865e+09</td>\n      <td>1.618865e+09</td>\n      <td>FINISHED</td>\n    </tr>\n    <tr>\n      <th>27</th>\n      <td>202104192037-676f</td>\n      <td>euler-8</td>\n      <td>jacob-basics</td>\n      <td>1.618865e+09</td>\n      <td>1.618865e+09</td>\n      <td>1.618865e+09</td>\n      <td>FINISHED</td>\n    </tr>\n    <tr>\n      <th>28</th>\n      <td>202104192038-beac</td>\n      <td>euler-9</td>\n      <td>jacob-basics</td>\n      <td>1.618865e+09</td>\n      <td>1.618865e+09</td>\n      <td>1.618865e+09</td>\n      <td>FINISHED</td>\n    </tr>\n    <tr>\n      <th>29</th>\n      <td>202104192040-9faa</td>\n      <td>euler-10</td>\n      <td>jacob-basics</td>\n      <td>1.618865e+09</td>\n      <td>1.618865e+09</td>\n      <td>1.618865e+09</td>\n      <td>FINISHED</td>\n    </tr>\n    <tr>\n      <th>30</th>\n      <td>202104192041-9b9d</td>\n      <td>all-1</td>\n      <td>jacob-basics</td>\n      <td>1.618865e+09</td>\n      <td>1.618865e+09</td>\n      <td>1.618865e+09</td>\n      <td>FINISHED</td>\n    </tr>\n    <tr>\n      <th>31</th>\n      <td>202104192043-4c73</td>\n      <td>all-2</td>\n      <td>jacob-basics</td>\n      <td>1.618865e+09</td>\n      <td>1.618865e+09</td>\n      <td>1.618865e+09</td>\n      <td>FINISHED</td>\n    </tr>\n    <tr>\n      <th>32</th>\n      <td>202104192044-e92b</td>\n      <td>all-3</td>\n      <td>jacob-basics</td>\n      <td>1.618865e+09</td>\n      <td>1.618865e+09</td>\n      <td>1.618865e+09</td>\n      <td>FINISHED</td>\n    </tr>\n    <tr>\n      <th>33</th>\n      <td>202104192046-f563</td>\n      <td>all-4</td>\n      <td>jacob-basics</td>\n      <td>1.618865e+09</td>\n      <td>1.618865e+09</td>\n      <td>1.618865e+09</td>\n      <td>FINISHED</td>\n    </tr>\n    <tr>\n      <th>34</th>\n      <td>202104192047-eddc</td>\n      <td>all-5</td>\n      <td>jacob-basics</td>\n      <td>1.618865e+09</td>\n      <td>1.618865e+09</td>\n      <td>1.618865e+09</td>\n      <td>FINISHED</td>\n    </tr>\n  </tbody>\n</table>\n</div>"
     },
     "execution_count": 9,
     "metadata": {},
     "output_type": "execute_result"
    }
   ],
   "source": [
    "fgw = ExperimentFrameGateway.from_env()\n"
   ]
  },
  {
   "cell_type": "code",
   "execution_count": 10,
   "outputs": [
    {
     "data": {
      "text/plain": "'202104191959-4457'"
     },
     "execution_count": 10,
     "metadata": {},
     "output_type": "execute_result"
    }
   ],
   "source": [
    "xp = fgw.experiments()\n",
    "def id_by_name(name):\n",
    "    return xp[xp['NAME'] == name]['EXP_ID'][0]\n",
    "\n",
    "id_by_name('pdf-1')"
   ],
   "metadata": {
    "collapsed": false,
    "pycharm": {
     "name": "#%%\n"
    }
   }
  },
  {
   "cell_type": "code",
   "execution_count": 3,
   "metadata": {
    "pycharm": {
     "name": "#%%\n"
    }
   },
   "outputs": [
    {
     "data": {
      "text/plain": "Dropdown(description='Experiment:', layout=Layout(width='100%'), options=(('202104191959-4457: pdf-1', '202104…",
      "application/vnd.jupyter.widget-view+json": {
       "version_major": 2,
       "version_minor": 0,
       "model_id": "0efd1ebdab0344a783e2a6a75399e31e"
      }
     },
     "metadata": {},
     "output_type": "display_data"
    }
   ],
   "source": [
    "selector = experiment_dropdown(fgw)\n",
    "selector\n"
   ]
  },
  {
   "cell_type": "code",
   "execution_count": 4,
   "metadata": {
    "pycharm": {
     "name": "#%%\n"
    }
   },
   "outputs": [
    {
     "data": {
      "text/plain": "'202104191959-4457'"
     },
     "execution_count": 4,
     "metadata": {},
     "output_type": "execute_result"
    }
   ],
   "source": [
    "exp_id = selector.value\n",
    "exp_id"
   ]
  },
  {
   "cell_type": "code",
   "execution_count": 5,
   "metadata": {
    "pycharm": {
     "name": "#%%\n"
    }
   },
   "outputs": [
    {
     "data": {
      "text/plain": "                                          EXP_ID     TIMESTAMP METRIC NODE  \\\nTIMESTAMP                                                                    \n2021-04-19 19:59:16.902921984  202104191959-4457  1.618862e+09    cpu   w1   \n2021-04-19 19:59:17.402864384  202104191959-4457  1.618862e+09    ram   w1   \n2021-04-19 19:59:17.403151872  202104191959-4457  1.618862e+09     tx   w1   \n2021-04-19 19:59:17.403630336  202104191959-4457  1.618862e+09     rx   w1   \n2021-04-19 19:59:17.903038464  202104191959-4457  1.618862e+09    cpu   w1   \n...                                          ...           ...    ...  ...   \n2021-04-19 20:00:08.403853568  202104191959-4457  1.618862e+09     rx   w1   \n2021-04-19 20:00:08.903249920  202104191959-4457  1.618862e+09    cpu   w1   \n2021-04-19 20:00:09.403498752  202104191959-4457  1.618862e+09    ram   w1   \n2021-04-19 20:00:09.403843072  202104191959-4457  1.618862e+09     tx   w1   \n2021-04-19 20:00:09.404321024  202104191959-4457  1.618862e+09     rx   w1   \n\n                                      VALUE  \nTIMESTAMP                                    \n2021-04-19 19:59:16.902921984  7.959184e+01  \n2021-04-19 19:59:17.402864384  1.026348e+06  \n2021-04-19 19:59:17.403151872  0.000000e+00  \n2021-04-19 19:59:17.403630336  0.000000e+00  \n2021-04-19 19:59:17.903038464  9.387755e+01  \n...                                     ...  \n2021-04-19 20:00:08.403853568  0.000000e+00  \n2021-04-19 20:00:08.903249920  9.591837e+01  \n2021-04-19 20:00:09.403498752  1.023324e+06  \n2021-04-19 20:00:09.403843072  0.000000e+00  \n2021-04-19 20:00:09.404321024  0.000000e+00  \n\n[216 rows x 5 columns]",
      "text/html": "<div>\n<style scoped>\n    .dataframe tbody tr th:only-of-type {\n        vertical-align: middle;\n    }\n\n    .dataframe tbody tr th {\n        vertical-align: top;\n    }\n\n    .dataframe thead th {\n        text-align: right;\n    }\n</style>\n<table border=\"1\" class=\"dataframe\">\n  <thead>\n    <tr style=\"text-align: right;\">\n      <th></th>\n      <th>EXP_ID</th>\n      <th>TIMESTAMP</th>\n      <th>METRIC</th>\n      <th>NODE</th>\n      <th>VALUE</th>\n    </tr>\n    <tr>\n      <th>TIMESTAMP</th>\n      <th></th>\n      <th></th>\n      <th></th>\n      <th></th>\n      <th></th>\n    </tr>\n  </thead>\n  <tbody>\n    <tr>\n      <th>2021-04-19 19:59:16.902921984</th>\n      <td>202104191959-4457</td>\n      <td>1.618862e+09</td>\n      <td>cpu</td>\n      <td>w1</td>\n      <td>7.959184e+01</td>\n    </tr>\n    <tr>\n      <th>2021-04-19 19:59:17.402864384</th>\n      <td>202104191959-4457</td>\n      <td>1.618862e+09</td>\n      <td>ram</td>\n      <td>w1</td>\n      <td>1.026348e+06</td>\n    </tr>\n    <tr>\n      <th>2021-04-19 19:59:17.403151872</th>\n      <td>202104191959-4457</td>\n      <td>1.618862e+09</td>\n      <td>tx</td>\n      <td>w1</td>\n      <td>0.000000e+00</td>\n    </tr>\n    <tr>\n      <th>2021-04-19 19:59:17.403630336</th>\n      <td>202104191959-4457</td>\n      <td>1.618862e+09</td>\n      <td>rx</td>\n      <td>w1</td>\n      <td>0.000000e+00</td>\n    </tr>\n    <tr>\n      <th>2021-04-19 19:59:17.903038464</th>\n      <td>202104191959-4457</td>\n      <td>1.618862e+09</td>\n      <td>cpu</td>\n      <td>w1</td>\n      <td>9.387755e+01</td>\n    </tr>\n    <tr>\n      <th>...</th>\n      <td>...</td>\n      <td>...</td>\n      <td>...</td>\n      <td>...</td>\n      <td>...</td>\n    </tr>\n    <tr>\n      <th>2021-04-19 20:00:08.403853568</th>\n      <td>202104191959-4457</td>\n      <td>1.618862e+09</td>\n      <td>rx</td>\n      <td>w1</td>\n      <td>0.000000e+00</td>\n    </tr>\n    <tr>\n      <th>2021-04-19 20:00:08.903249920</th>\n      <td>202104191959-4457</td>\n      <td>1.618862e+09</td>\n      <td>cpu</td>\n      <td>w1</td>\n      <td>9.591837e+01</td>\n    </tr>\n    <tr>\n      <th>2021-04-19 20:00:09.403498752</th>\n      <td>202104191959-4457</td>\n      <td>1.618862e+09</td>\n      <td>ram</td>\n      <td>w1</td>\n      <td>1.023324e+06</td>\n    </tr>\n    <tr>\n      <th>2021-04-19 20:00:09.403843072</th>\n      <td>202104191959-4457</td>\n      <td>1.618862e+09</td>\n      <td>tx</td>\n      <td>w1</td>\n      <td>0.000000e+00</td>\n    </tr>\n    <tr>\n      <th>2021-04-19 20:00:09.404321024</th>\n      <td>202104191959-4457</td>\n      <td>1.618862e+09</td>\n      <td>rx</td>\n      <td>w1</td>\n      <td>0.000000e+00</td>\n    </tr>\n  </tbody>\n</table>\n<p>216 rows × 5 columns</p>\n</div>"
     },
     "execution_count": 5,
     "metadata": {},
     "output_type": "execute_result"
    }
   ],
   "source": [
    "telemetry = fgw.telemetry(exp_id)\n",
    "telemetry"
   ]
  },
  {
   "cell_type": "code",
   "execution_count": 6,
   "metadata": {
    "pycharm": {
     "name": "#%%\n"
    }
   },
   "outputs": [
    {
     "data": {
      "text/plain": "Empty DataFrame\nColumns: [EXP_ID, TIMESTAMP, NAME, VALUE]\nIndex: []",
      "text/html": "<div>\n<style scoped>\n    .dataframe tbody tr th:only-of-type {\n        vertical-align: middle;\n    }\n\n    .dataframe tbody tr th {\n        vertical-align: top;\n    }\n\n    .dataframe thead th {\n        text-align: right;\n    }\n</style>\n<table border=\"1\" class=\"dataframe\">\n  <thead>\n    <tr style=\"text-align: right;\">\n      <th></th>\n      <th>EXP_ID</th>\n      <th>TIMESTAMP</th>\n      <th>NAME</th>\n      <th>VALUE</th>\n    </tr>\n    <tr>\n      <th>TIMESTAMP</th>\n      <th></th>\n      <th></th>\n      <th></th>\n      <th></th>\n    </tr>\n  </thead>\n  <tbody>\n  </tbody>\n</table>\n</div>"
     },
     "execution_count": 6,
     "metadata": {},
     "output_type": "execute_result"
    }
   ],
   "source": [
    "events = fgw.events(exp_id)\n",
    "events"
   ]
  },
  {
   "cell_type": "code",
   "execution_count": 7,
   "metadata": {
    "pycharm": {
     "name": "#%%\n"
    }
   },
   "outputs": [
    {
     "data": {
      "text/plain": "              EXP_ID NODE  INFO_KEY  \\\n0  202104191959-4457   w1      disk   \n1  202104191959-4457   w1      cpus   \n2  202104191959-4457   w1       net   \n3  202104191959-4457   w1      arch   \n4  202104191959-4457   w1      boot   \n5  202104191959-4457   w1  hostname   \n6  202104191959-4457   w1  netspeed   \n7  202104191959-4457   w1       ram   \n\n                                          INFO_VALUE  \n0                                            sda sr0  \n1                                                  1  \n2  br-7e3209e2554c docker0 ens10 eth0 veth60f1af0...  \n3                                              amd64  \n4                                         1618861645  \n5                                                 w1  \n6                                                 -1  \n7                                            1986276  ",
      "text/html": "<div>\n<style scoped>\n    .dataframe tbody tr th:only-of-type {\n        vertical-align: middle;\n    }\n\n    .dataframe tbody tr th {\n        vertical-align: top;\n    }\n\n    .dataframe thead th {\n        text-align: right;\n    }\n</style>\n<table border=\"1\" class=\"dataframe\">\n  <thead>\n    <tr style=\"text-align: right;\">\n      <th></th>\n      <th>EXP_ID</th>\n      <th>NODE</th>\n      <th>INFO_KEY</th>\n      <th>INFO_VALUE</th>\n    </tr>\n  </thead>\n  <tbody>\n    <tr>\n      <th>0</th>\n      <td>202104191959-4457</td>\n      <td>w1</td>\n      <td>disk</td>\n      <td>sda sr0</td>\n    </tr>\n    <tr>\n      <th>1</th>\n      <td>202104191959-4457</td>\n      <td>w1</td>\n      <td>cpus</td>\n      <td>1</td>\n    </tr>\n    <tr>\n      <th>2</th>\n      <td>202104191959-4457</td>\n      <td>w1</td>\n      <td>net</td>\n      <td>br-7e3209e2554c docker0 ens10 eth0 veth60f1af0...</td>\n    </tr>\n    <tr>\n      <th>3</th>\n      <td>202104191959-4457</td>\n      <td>w1</td>\n      <td>arch</td>\n      <td>amd64</td>\n    </tr>\n    <tr>\n      <th>4</th>\n      <td>202104191959-4457</td>\n      <td>w1</td>\n      <td>boot</td>\n      <td>1618861645</td>\n    </tr>\n    <tr>\n      <th>5</th>\n      <td>202104191959-4457</td>\n      <td>w1</td>\n      <td>hostname</td>\n      <td>w1</td>\n    </tr>\n    <tr>\n      <th>6</th>\n      <td>202104191959-4457</td>\n      <td>w1</td>\n      <td>netspeed</td>\n      <td>-1</td>\n    </tr>\n    <tr>\n      <th>7</th>\n      <td>202104191959-4457</td>\n      <td>w1</td>\n      <td>ram</td>\n      <td>1986276</td>\n    </tr>\n  </tbody>\n</table>\n</div>"
     },
     "execution_count": 7,
     "metadata": {},
     "output_type": "execute_result"
    }
   ],
   "source": [
    "nodeinfos = fgw.nodeinfo(exp_id)\n",
    "nodeinfos"
   ]
  },
  {
   "cell_type": "code",
   "execution_count": 8,
   "metadata": {
    "pycharm": {
     "name": "#%%\n"
    }
   },
   "outputs": [
    {
     "name": "stdout",
     "output_type": "stream",
     "text": [
      "137.57047713557375\n",
      "135.33449172973633\n",
      "15.148588662736163\n"
     ]
    },
    {
     "data": {
      "text/plain": "<Figure size 432x288 with 1 Axes>",
      "image/png": "[encoded data removed]"
     },
     "metadata": {
      "needs_background": "light"
     },
     "output_type": "display_data"
    }
   ],
   "source": [
    "traces = fgw.traces(exp_id)\n",
    "traces\n",
    "print(traces['RTT'].mean())\n",
    "print(traces['RTT'].median())\n",
    "print(traces['RTT'].std())\n",
    "\n",
    "plt.hist(traces['RTT'], bins = 20)\n",
    "plt.show()"
   ]
  },
  {
   "cell_type": "code",
   "execution_count": 8,
   "metadata": {},
   "outputs": [],
   "source": []
  }
 ],
 "metadata": {
  "kernelspec": {
   "display_name": "Python 3",
   "language": "python",
   "name": "python3"
  },
  "language_info": {
   "codemirror_mode": {
    "name": "ipython",
    "version": 3
   },
   "file_extension": ".py",
   "mimetype": "text/x-python",
   "name": "python",
   "nbconvert_exporter": "python",
   "pygments_lexer": "ipython3",
   "version": "3.9.2"
  }
 },
 "nbformat": 4,
 "nbformat_minor": 4
}