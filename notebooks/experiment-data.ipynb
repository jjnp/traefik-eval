{
 "cells": [
  {
   "cell_type": "code",
   "execution_count": null,
   "metadata": {},
   "outputs": [],
   "source": [
    "import pandas as pd\n",
    "import matplotlib.pyplot as plt\n",
    "\n",
    "from galileodb.factory import create_experiment_database\n",
    "from galileojp.frames import ExperimentFrameGateway\n",
    "\n",
    "env = {\n",
    "    'galileo_expdb_mysql_host': 'localhost',\n",
    "    'galileo_expdb_mysql_port': '3307',\n",
    "    'galileo_expdb_mysql_db': 'galileo',\n",
    "    'galileo_expdb_mysql_user': '',\n",
    "    'galileo_expdb_mysql_password': '',\n",
    "}"
   ]
  },
  {
   "cell_type": "code",
   "execution_count": null,
   "outputs": [],
   "source": [
    "edb = create_experiment_database('mysql', env)\n",
    "exps = edb.find_all()\n",
    "\n",
    "for exp in exps:\n",
    "    print(exp)\n",
    "    break\n",
    "\n",
    "fgw = ExperimentFrameGateway(edb)"
   ],
   "metadata": {
    "collapsed": false,
    "pycharm": {
     "name": "#%%\n"
    }
   }
  },
  {
   "cell_type": "code",
   "execution_count": null,
   "outputs": [],
   "source": [
    "df = fgw.load_experiment('202006302303-8c22')\n",
    "df\n"
   ],
   "metadata": {
    "collapsed": false,
    "pycharm": {
     "name": "#%%\n"
    }
   }
  },
  {
   "cell_type": "code",
   "execution_count": null,
   "outputs": [],
   "source": [
    "fgw.events()"
   ],
   "metadata": {
    "collapsed": false,
    "pycharm": {
     "name": "#%%\n"
    }
   }
  },
  {
   "cell_type": "code",
   "execution_count": null,
   "outputs": [],
   "source": [
    "telem_df = fgw.telemetry()\n",
    "telem_df"
   ],
   "metadata": {
    "collapsed": false,
    "pycharm": {
     "name": "#%%\n"
    }
   }
  },
  {
   "cell_type": "code",
   "execution_count": null,
   "outputs": [],
   "source": [
    "df = telem_df[(telem_df.METRIC == 'watt') & (telem_df.NODE == 'planck')]\n",
    "\n",
    "df.index = pd.DatetimeIndex(pd.to_datetime(df['TIMESTAMP'], unit='s'))\n",
    "\n",
    "plt.plot(df.VALUE)"
   ],
   "metadata": {
    "collapsed": false,
    "pycharm": {
     "name": "#%%\n"
    }
   }
  }
 ],
 "metadata": {
  "kernelspec": {
   "display_name": "Python 3",
   "language": "python",
   "name": "python3"
  },
  "language_info": {
   "codemirror_mode": {
    "name": "ipython",
    "version": 3
   },
   "file_extension": ".py",
   "mimetype": "text/x-python",
   "name": "python",
   "nbconvert_exporter": "python",
   "pygments_lexer": "ipython3",
   "version": "3.6.9"
  }
 },
 "nbformat": 4,
 "nbformat_minor": 4
}